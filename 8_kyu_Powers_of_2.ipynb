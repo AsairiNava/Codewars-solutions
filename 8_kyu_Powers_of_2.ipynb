{
  "nbformat": 4,
  "nbformat_minor": 0,
  "metadata": {
    "colab": {
      "name": "8 kyu Powers of 2.ipynb",
      "provenance": [],
      "authorship_tag": "ABX9TyO//B8dbmCo/FKIWCc3HZ8N",
      "include_colab_link": true
    },
    "kernelspec": {
      "name": "python3",
      "display_name": "Python 3"
    },
    "language_info": {
      "name": "python"
    }
  },
  "cells": [
    {
      "cell_type": "markdown",
      "metadata": {
        "id": "view-in-github",
        "colab_type": "text"
      },
      "source": [
        "<a href=\"https://colab.research.google.com/github/AsairiNava/Codewars-solutions/blob/main/8_kyu_Powers_of_2.ipynb\" target=\"_parent\"><img src=\"https://colab.research.google.com/assets/colab-badge.svg\" alt=\"Open In Colab\"/></a>"
      ]
    },
    {
      "cell_type": "markdown",
      "metadata": {
        "id": "L0dQ7rWvb2RW"
      },
      "source": [
        "Complete the function that takes a non-negative integer n as input, and returns a list of all the powers of 2 with the exponent ranging from 0 to n (inclusive).\n",
        "\n",
        "Examples\n",
        "n = 0  ==> [1]        # [2^0]\n",
        "n = 1  ==> [1, 2]     # [2^0, 2^1]\n",
        "n = 2  ==> [1, 2, 4]  # [2^0, 2^1, 2^2]"
      ]
    },
    {
      "cell_type": "code",
      "metadata": {
        "id": "eDZLvUZfb9zK"
      },
      "source": [
        "def powers_of_two(n):\n",
        "  return [ 2 ** i for i in range(n+1) ]"
      ],
      "execution_count": null,
      "outputs": []
    }
  ]
}