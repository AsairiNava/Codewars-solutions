{
  "nbformat": 4,
  "nbformat_minor": 0,
  "metadata": {
    "colab": {
      "name": "8 kyu String repeat.ipynb",
      "provenance": [],
      "authorship_tag": "ABX9TyMMAvpYLnif7RkJ/cprzalR",
      "include_colab_link": true
    },
    "kernelspec": {
      "name": "python3",
      "display_name": "Python 3"
    },
    "language_info": {
      "name": "python"
    }
  },
  "cells": [
    {
      "cell_type": "markdown",
      "metadata": {
        "id": "view-in-github",
        "colab_type": "text"
      },
      "source": [
        "<a href=\"https://colab.research.google.com/github/AsairiNava/Codewars-solutions/blob/main/8_kyu_String_repeat.ipynb\" target=\"_parent\"><img src=\"https://colab.research.google.com/assets/colab-badge.svg\" alt=\"Open In Colab\"/></a>"
      ]
    },
    {
      "cell_type": "markdown",
      "metadata": {
        "id": "ePK0SOQepZAJ"
      },
      "source": [
        "Write a function called repeatStr which repeats the given string string exactly n times.\n",
        "\n",
        "repeatStr(6, \"I\") // \"IIIIII\"\n",
        "repeatStr(5, \"Hello\") // \"HelloHelloHelloHelloHello\""
      ]
    },
    {
      "cell_type": "code",
      "metadata": {
        "id": "wCEcOu5ApWna"
      },
      "source": [
        "def repeat_str(repeat, string):\n",
        "    return string * repeat"
      ],
      "execution_count": null,
      "outputs": []
    }
  ]
}