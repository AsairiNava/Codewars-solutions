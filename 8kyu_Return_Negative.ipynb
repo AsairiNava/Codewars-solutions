{
  "nbformat": 4,
  "nbformat_minor": 0,
  "metadata": {
    "colab": {
      "name": "8kyu Return Negative.py",
      "provenance": [],
      "authorship_tag": "ABX9TyPc3zwgPqgoyw1x8H6w9YS1",
      "include_colab_link": true
    },
    "kernelspec": {
      "name": "python3",
      "display_name": "Python 3"
    },
    "language_info": {
      "name": "python"
    }
  },
  "cells": [
    {
      "cell_type": "markdown",
      "metadata": {
        "id": "view-in-github",
        "colab_type": "text"
      },
      "source": [
        "<a href=\"https://colab.research.google.com/github/AsairiNava/Codewars-solutions/blob/main/8kyu_Return_Negative.ipynb\" target=\"_parent\"><img src=\"https://colab.research.google.com/assets/colab-badge.svg\" alt=\"Open In Colab\"/></a>"
      ]
    },
    {
      "cell_type": "code",
      "metadata": {
        "id": "yhSLg8MfOKQj"
      },
      "source": [
        "def make_negative( number ):\n",
        "    # ...\n",
        "    if number < 1:\n",
        "        return number\n",
        "    if number >= 1:\n",
        "        return -number"
      ],
      "execution_count": null,
      "outputs": []
    }
  ]
}