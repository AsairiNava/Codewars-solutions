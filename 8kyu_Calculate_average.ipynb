{
  "nbformat": 4,
  "nbformat_minor": 0,
  "metadata": {
    "colab": {
      "name": "8kyu Calculate average",
      "provenance": [],
      "authorship_tag": "ABX9TyPZMcFtqSvSfx/S3xxUFyYj",
      "include_colab_link": true
    },
    "kernelspec": {
      "name": "python3",
      "display_name": "Python 3"
    },
    "language_info": {
      "name": "python"
    }
  },
  "cells": [
    {
      "cell_type": "markdown",
      "metadata": {
        "id": "view-in-github",
        "colab_type": "text"
      },
      "source": [
        "<a href=\"https://colab.research.google.com/github/AsairiNava/Codewars-solutions/blob/main/8kyu_Calculate_average.ipynb\" target=\"_parent\"><img src=\"https://colab.research.google.com/assets/colab-badge.svg\" alt=\"Open In Colab\"/></a>"
      ]
    },
    {
      "cell_type": "code",
      "metadata": {
        "id": "yhSLg8MfOKQj"
      },
      "source": [
        "import statistics\n",
        "\n",
        "def find_average(numbers):\n",
        "    # your code here\n",
        "    if len(numbers) == 0:\n",
        "        return 0\n",
        "    else:\n",
        "        return statistics.mean(numbers)"
      ],
      "execution_count": null,
      "outputs": []
    }
  ]
}