{
  "nbformat": 4,
  "nbformat_minor": 0,
  "metadata": {
    "colab": {
      "name": "8 kyu Opposites Attract.ipynb",
      "provenance": [],
      "authorship_tag": "ABX9TyNtX7H8DSJ4PhhkKK62Wq6N",
      "include_colab_link": true
    },
    "kernelspec": {
      "name": "python3",
      "display_name": "Python 3"
    },
    "language_info": {
      "name": "python"
    }
  },
  "cells": [
    {
      "cell_type": "markdown",
      "metadata": {
        "id": "view-in-github",
        "colab_type": "text"
      },
      "source": [
        "<a href=\"https://colab.research.google.com/github/AsairiNava/Codewars-solutions/blob/main/8_kyu_Opposites_Attract.ipynb\" target=\"_parent\"><img src=\"https://colab.research.google.com/assets/colab-badge.svg\" alt=\"Open In Colab\"/></a>"
      ]
    },
    {
      "cell_type": "markdown",
      "metadata": {
        "id": "9fBIZIZqpFAy"
      },
      "source": [
        "Timmy & Sarah think they are in love, but around where they live, they will only know once they pick a flower each. If one of the flowers has an even number of petals and the other has an odd number of petals it means they are in love.\n",
        "\n",
        "Write a function that will take the number of petals of each flower and return true if they are in love and false if they aren't."
      ]
    },
    {
      "cell_type": "code",
      "metadata": {
        "id": "6eF-AA_Ao_EL"
      },
      "source": [
        "def lovefunc( flower1, flower2 ):\n",
        "    # ...\n",
        "    for flower in (flower1, flower2):\n",
        "        if not flower1 %2 and flower2 %2:\n",
        "            return True\n",
        "        elif not flower2 %2 and flower1 %2:\n",
        "            return True\n",
        "        else:\n",
        "            return False"
      ],
      "execution_count": null,
      "outputs": []
    }
  ]
}