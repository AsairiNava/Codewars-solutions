{
  "nbformat": 4,
  "nbformat_minor": 0,
  "metadata": {
    "colab": {
      "name": "8kyu Thinkful - Logic Drills: Traffic light.ipynb",
      "provenance": [],
      "authorship_tag": "ABX9TyNaCrqjHFt1Oba+wMc01P1k",
      "include_colab_link": true
    },
    "kernelspec": {
      "name": "python3",
      "display_name": "Python 3"
    },
    "language_info": {
      "name": "python"
    }
  },
  "cells": [
    {
      "cell_type": "markdown",
      "metadata": {
        "id": "view-in-github",
        "colab_type": "text"
      },
      "source": [
        "<a href=\"https://colab.research.google.com/github/AsairiNava/Codewars-solutions/blob/main/8kyu_Thinkful_Logic_Drills_Traffic_light.ipynb\" target=\"_parent\"><img src=\"https://colab.research.google.com/assets/colab-badge.svg\" alt=\"Open In Colab\"/></a>"
      ]
    },
    {
      "cell_type": "code",
      "metadata": {
        "id": "yhSLg8MfOKQj"
      },
      "source": [
        "def update_light(current):\n",
        "    # Your code here.\n",
        "    if current == 'green':\n",
        "        return 'yellow'\n",
        "    if current == 'yellow':\n",
        "        return 'red'\n",
        "    else:\n",
        "        return 'green'"
      ],
      "execution_count": null,
      "outputs": []
    }
  ]
}