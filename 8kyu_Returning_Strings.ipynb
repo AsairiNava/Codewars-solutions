{
  "nbformat": 4,
  "nbformat_minor": 0,
  "metadata": {
    "colab": {
      "name": " 8kyu Returning Strings.ipynb",
      "provenance": [],
      "authorship_tag": "ABX9TyOrqENp3sioAumazjsm6ZNo",
      "include_colab_link": true
    },
    "kernelspec": {
      "name": "python3",
      "display_name": "Python 3"
    },
    "language_info": {
      "name": "python"
    }
  },
  "cells": [
    {
      "cell_type": "markdown",
      "metadata": {
        "id": "view-in-github",
        "colab_type": "text"
      },
      "source": [
        "<a href=\"https://colab.research.google.com/github/AsairiNava/Codewars-solutions/blob/main/8kyu_Returning_Strings.ipynb\" target=\"_parent\"><img src=\"https://colab.research.google.com/assets/colab-badge.svg\" alt=\"Open In Colab\"/></a>"
      ]
    },
    {
      "cell_type": "markdown",
      "metadata": {
        "id": "vCTqFyj4gHDG"
      },
      "source": [
        "Make a function that will return a greeting statement that uses an input; your program should return, \"Hello, <name> how are you doing today?\".\n",
        "\n",
        "[Make sure you type the exact thing I wrote or the program may not execute properly]\n",
        "\n",
        "F"
      ]
    },
    {
      "cell_type": "code",
      "metadata": {
        "id": "ESFrhBcyft34"
      },
      "source": [
        "def greet(name):\n",
        "    return \"Hello, \" + name + \" how are you doing today?\""
      ],
      "execution_count": null,
      "outputs": []
    }
  ]
}