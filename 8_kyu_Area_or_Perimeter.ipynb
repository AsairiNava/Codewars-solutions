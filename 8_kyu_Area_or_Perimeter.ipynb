{
  "nbformat": 4,
  "nbformat_minor": 0,
  "metadata": {
    "colab": {
      "name": "8 kyu Area or Perimeter.ipynb",
      "provenance": [],
      "authorship_tag": "ABX9TyO2vYXdSPGZ7P6G9MLou85p",
      "include_colab_link": true
    },
    "kernelspec": {
      "name": "python3",
      "display_name": "Python 3"
    },
    "language_info": {
      "name": "python"
    }
  },
  "cells": [
    {
      "cell_type": "markdown",
      "metadata": {
        "id": "view-in-github",
        "colab_type": "text"
      },
      "source": [
        "<a href=\"https://colab.research.google.com/github/AsairiNava/Codewars-solutions/blob/main/8_kyu_Area_or_Perimeter.ipynb\" target=\"_parent\"><img src=\"https://colab.research.google.com/assets/colab-badge.svg\" alt=\"Open In Colab\"/></a>"
      ]
    },
    {
      "cell_type": "markdown",
      "metadata": {
        "id": "gtq9G8buWtrF"
      },
      "source": [
        "You are given the length and width of a 4-sided polygon. The polygon can either be a rectangle or a square.\n",
        "If it is a square, return its area. If it is a rectangle, return its perimeter.\n",
        "\n",
        "area_or_perimeter(6, 10) --> 32\n",
        "area_or_perimeter(3, 3) --> 9\n",
        "Note: for the purposes of this kata you will assume that it is a square if its length and width are equal, otherwise it is a rectangle.\n",
        "\n"
      ]
    },
    {
      "cell_type": "code",
      "metadata": {
        "id": "rbQoR0wZWoKk"
      },
      "source": [
        "def area_or_perimeter(l , w):\n",
        "    # return your answer\n",
        "    if l == w:\n",
        "        return l**2\n",
        "    if l != w:\n",
        "        return (2*l)+(2*w)"
      ],
      "execution_count": null,
      "outputs": []
    }
  ]
}