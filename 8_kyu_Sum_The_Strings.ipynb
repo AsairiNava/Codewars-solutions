{
  "nbformat": 4,
  "nbformat_minor": 0,
  "metadata": {
    "colab": {
      "name": "8 kyu Sum The Strings.ipynb",
      "provenance": [],
      "authorship_tag": "ABX9TyO+ZZxML/eJVniJcfJQyQ70",
      "include_colab_link": true
    },
    "kernelspec": {
      "name": "python3",
      "display_name": "Python 3"
    },
    "language_info": {
      "name": "python"
    }
  },
  "cells": [
    {
      "cell_type": "markdown",
      "metadata": {
        "id": "view-in-github",
        "colab_type": "text"
      },
      "source": [
        "<a href=\"https://colab.research.google.com/github/AsairiNava/Codewars-solutions/blob/main/8_kyu_Sum_The_Strings.ipynb\" target=\"_parent\"><img src=\"https://colab.research.google.com/assets/colab-badge.svg\" alt=\"Open In Colab\"/></a>"
      ]
    },
    {
      "cell_type": "markdown",
      "metadata": {
        "id": "fgrN5kv4itHw"
      },
      "source": [
        "Create a function that takes 2 positive integers in form of a string as an input, and outputs the sum (also as a string):\n",
        "\n",
        "Example: (Input1, Input2 -->Output)\n",
        "\n",
        "\"4\",  \"5\" --> \"9\"\n",
        "\"34\", \"5\" --> \"39\"\n",
        "Notes:\n",
        "\n",
        "If either input is an empty string, consider it as zero."
      ]
    },
    {
      "cell_type": "code",
      "metadata": {
        "id": "eNfbdNqFisle"
      },
      "source": [
        "def sum_str(a, b):\n",
        "    return str(sum(map(lambda x: 0 if x == \"\" else int(x),(a, b))))"
      ],
      "execution_count": null,
      "outputs": []
    }
  ]
}