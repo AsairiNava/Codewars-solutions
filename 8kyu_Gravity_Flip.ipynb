{
  "nbformat": 4,
  "nbformat_minor": 0,
  "metadata": {
    "colab": {
      "name": "8kyu Gravity Flip.ipynb",
      "provenance": [],
      "authorship_tag": "ABX9TyOdLQpsbausgDtDCkoKb1q8",
      "include_colab_link": true
    },
    "kernelspec": {
      "name": "python3",
      "display_name": "Python 3"
    },
    "language_info": {
      "name": "python"
    }
  },
  "cells": [
    {
      "cell_type": "markdown",
      "metadata": {
        "id": "view-in-github",
        "colab_type": "text"
      },
      "source": [
        "<a href=\"https://colab.research.google.com/github/AsairiNava/Codewars-solutions/blob/main/8kyu_Gravity_Flip.ipynb\" target=\"_parent\"><img src=\"https://colab.research.google.com/assets/colab-badge.svg\" alt=\"Open In Colab\"/></a>"
      ]
    },
    {
      "cell_type": "markdown",
      "metadata": {
        "id": "rnFMnqEBcob9"
      },
      "source": [
        "If you've completed this kata already and want a bigger challenge, here's the 3D version\n",
        "\n",
        "Bob is bored during his physics lessons so he's built himself a toy box to help pass the time. The box is special because it has the ability to change gravity.\n",
        "\n",
        "There are some columns of toy cubes in the box arranged in a line. The i-th column contains a_i cubes. At first, the gravity in the box is pulling the cubes downwards. When Bob switches the gravity, it begins to pull all the cubes to a certain side of the box, d, which can be either 'L' or 'R' (left or right). Below is an example of what a box of cubes might look like before and after switching gravity.\n",
        "\n",
        "+---+                                       +---+\n",
        "|   |                                       |   |\n",
        "+---+                                       +---+\n",
        "+---++---+     +---+              +---++---++---+\n",
        "|   ||   |     |   |   -->        |   ||   ||   |\n",
        "+---++---+     +---+              +---++---++---+\n",
        "+---++---++---++---+         +---++---++---++---+\n",
        "|   ||   ||   ||   |         |   ||   ||   ||   |\n",
        "+---++---++---++---+         +---++---++---++---+\n",
        "Given the initial configuration of the cubes in the box, find out how many cubes are in each of the n columns after Bob switches the gravity.\n",
        "\n",
        "Examples:\n",
        "\n",
        "flip('R', [3, 2, 1, 2])     =>  [1, 2, 2, 3]\n",
        "flip('L', [1, 4, 5, 3, 5])  =>  [5, 5, 4, 3, 1]"
      ]
    },
    {
      "cell_type": "code",
      "metadata": {
        "id": "9jGSKJmKcj2m"
      },
      "source": [
        "def flip(d, a):\n",
        "    return sorted(a) if d == 'R' else sorted(a, reverse = True)"
      ],
      "execution_count": null,
      "outputs": []
    }
  ]
}