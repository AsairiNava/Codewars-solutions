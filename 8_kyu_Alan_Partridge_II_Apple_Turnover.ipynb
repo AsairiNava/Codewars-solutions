{
  "nbformat": 4,
  "nbformat_minor": 0,
  "metadata": {
    "colab": {
      "name": "8 kyu Alan Partridge II - Apple Turnover.ipynb",
      "provenance": [],
      "authorship_tag": "ABX9TyPHXThQTePdUx8P+xuzKPAt",
      "include_colab_link": true
    },
    "kernelspec": {
      "name": "python3",
      "display_name": "Python 3"
    },
    "language_info": {
      "name": "python"
    }
  },
  "cells": [
    {
      "cell_type": "markdown",
      "metadata": {
        "id": "view-in-github",
        "colab_type": "text"
      },
      "source": [
        "<a href=\"https://colab.research.google.com/github/AsairiNava/Codewars-solutions/blob/main/8_kyu_Alan_Partridge_II_Apple_Turnover.ipynb\" target=\"_parent\"><img src=\"https://colab.research.google.com/assets/colab-badge.svg\" alt=\"Open In Colab\"/></a>"
      ]
    },
    {
      "cell_type": "markdown",
      "metadata": {
        "id": "6QHSnKWRzPf6"
      },
      "source": [
        "As a treat, I'll let you read part of the script from a classic 'I'm Alan Partridge episode:\n",
        "\n",
        "Lynn: Alan, there’s that teacher chap.\n",
        "Alan: Michael, if he hits me, will you hit him first?\n",
        "Michael: No, he’s a customer. I cannot hit customers. I’ve been told. I’ll go and get some stock.\n",
        "Alan: Yeah, chicken stock.\n",
        "Phil: Hello Alan.\n",
        "Alan: Lynn, hand me an apple pie. And remove yourself from the theatre of conflict.\n",
        "Lynn: What do you mean?\n",
        "Alan: Go and stand by the yakults. The temperature inside this apple turnover is 1,000 degrees. If I squeeze it, a jet of molten Bramley apple is going to squirt out. Could go your way, could go mine. Either way, one of us is going down.\n",
        "Alan is known for referring to the temperature of the apple turnover as 'Hotter than the sun!'. According to space.com the temperature of the sun's corona is 2,000,000 degrees C, but we will ignore the science for now.\n",
        "\n",
        "Your job is simple, if (x) squared is more than 1000, return 'It's hotter than the sun!!', else, return 'Help yourself to a honeycomb Yorkie for the glovebox.'.\n",
        "\n",
        "X will be a valid integer number.\n",
        "X will be either a number or a string. Both are valid."
      ]
    },
    {
      "cell_type": "code",
      "metadata": {
        "id": "ZF1-TNUizJuQ"
      },
      "source": [
        "def apple(x):\n",
        "    return \"It's hotter than the sun!!\" if int(x)**2 > 1000 else \"Help yourself to a honeycomb Yorkie for the glovebox.\""
      ],
      "execution_count": null,
      "outputs": []
    },
    {
      "cell_type": "code",
      "metadata": {
        "id": "_tx5_3IszTh0"
      },
      "source": [
        "def apple(x):\n",
        "    x = int(x)\n",
        "    if x**2 > 1000:\n",
        "      return (\"It's hotter than the sun!!\")\n",
        "    else:\n",
        "      return (\"Help yourself to a honeycomb Yorkie for the glovebox.\")"
      ],
      "execution_count": null,
      "outputs": []
    }
  ]
}