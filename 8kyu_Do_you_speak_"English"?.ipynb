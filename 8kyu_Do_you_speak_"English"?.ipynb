{
  "nbformat": 4,
  "nbformat_minor": 0,
  "metadata": {
    "colab": {
      "name": "8kyu Do you speak \"English\"?.ipynb",
      "provenance": [],
      "authorship_tag": "ABX9TyO//I+NbD+rabszVMUhyI1S",
      "include_colab_link": true
    },
    "kernelspec": {
      "name": "python3",
      "display_name": "Python 3"
    },
    "language_info": {
      "name": "python"
    }
  },
  "cells": [
    {
      "cell_type": "markdown",
      "metadata": {
        "id": "view-in-github",
        "colab_type": "text"
      },
      "source": [
        "<a href=\"https://colab.research.google.com/github/AsairiNava/Codewars-solutions/blob/main/8kyu_Do_you_speak_%22English%22%3F.ipynb\" target=\"_parent\"><img src=\"https://colab.research.google.com/assets/colab-badge.svg\" alt=\"Open In Colab\"/></a>"
      ]
    },
    {
      "cell_type": "code",
      "metadata": {
        "id": "yhSLg8MfOKQj"
      },
      "source": [
        "import re\n",
        "def sp_eng(sentence): \n",
        "    result = re.search(r'english', sentence, re.IGNORECASE)\n",
        "    return True if result else False"
      ],
      "execution_count": null,
      "outputs": []
    }
  ]
}