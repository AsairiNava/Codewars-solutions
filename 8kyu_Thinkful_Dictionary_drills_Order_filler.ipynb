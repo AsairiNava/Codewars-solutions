{
  "nbformat": 4,
  "nbformat_minor": 0,
  "metadata": {
    "colab": {
      "name": "8kyu Thinkful - Dictionary drills: Order filler",
      "provenance": [],
      "authorship_tag": "ABX9TyPtJI+a5KmbNFggUgbbI0uU",
      "include_colab_link": true
    },
    "kernelspec": {
      "name": "python3",
      "display_name": "Python 3"
    },
    "language_info": {
      "name": "python"
    }
  },
  "cells": [
    {
      "cell_type": "markdown",
      "metadata": {
        "id": "view-in-github",
        "colab_type": "text"
      },
      "source": [
        "<a href=\"https://colab.research.google.com/github/AsairiNava/Codewars-solutions/blob/main/8kyu_Thinkful_Dictionary_drills_Order_filler.ipynb\" target=\"_parent\"><img src=\"https://colab.research.google.com/assets/colab-badge.svg\" alt=\"Open In Colab\"/></a>"
      ]
    },
    {
      "cell_type": "code",
      "metadata": {
        "id": "yhSLg8MfOKQj"
      },
      "source": [
        "def fillable(stock, merch, n):\n",
        "    # Your code goes here.\n",
        "    try:\n",
        "        return stock[merch]>=n\n",
        "    except:\n",
        "        return False"
      ],
      "execution_count": null,
      "outputs": []
    }
  ]
}