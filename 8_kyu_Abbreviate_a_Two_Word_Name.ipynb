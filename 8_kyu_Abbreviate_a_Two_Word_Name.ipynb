{
  "nbformat": 4,
  "nbformat_minor": 0,
  "metadata": {
    "colab": {
      "name": "8 kyu Abbreviate a Two Word Name.ipynb",
      "provenance": [],
      "authorship_tag": "ABX9TyMdC4UrnK/EKKhBJBcV4eFs",
      "include_colab_link": true
    },
    "kernelspec": {
      "name": "python3",
      "display_name": "Python 3"
    },
    "language_info": {
      "name": "python"
    }
  },
  "cells": [
    {
      "cell_type": "markdown",
      "metadata": {
        "id": "view-in-github",
        "colab_type": "text"
      },
      "source": [
        "<a href=\"https://colab.research.google.com/github/AsairiNava/Codewars-solutions/blob/main/8_kyu_Abbreviate_a_Two_Word_Name.ipynb\" target=\"_parent\"><img src=\"https://colab.research.google.com/assets/colab-badge.svg\" alt=\"Open In Colab\"/></a>"
      ]
    },
    {
      "cell_type": "markdown",
      "metadata": {
        "id": "HnyY-u7GAzGj"
      },
      "source": [
        "Write a function to convert a name into initials. This kata strictly takes two words with one space in between them.\n",
        "\n",
        "The output should be two capital letters with a dot separating them.\n",
        "\n",
        "It should look like this:\n",
        "\n",
        "Sam Harris => S.H\n",
        "\n",
        "Patrick Feeney => P.F"
      ]
    },
    {
      "cell_type": "code",
      "metadata": {
        "id": "qMFFBrSVAuXl"
      },
      "source": [
        "def abbrev_name(name):\n",
        "    return \".\".join(i[0] for i in name.split()).upper()"
      ],
      "execution_count": null,
      "outputs": []
    }
  ]
}