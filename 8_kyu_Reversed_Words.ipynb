{
  "nbformat": 4,
  "nbformat_minor": 0,
  "metadata": {
    "colab": {
      "name": "8 kyu Reversed Words.ipynb",
      "provenance": [],
      "authorship_tag": "ABX9TyOFF4Z/DoGLYNk6a7EX42Y8",
      "include_colab_link": true
    },
    "kernelspec": {
      "name": "python3",
      "display_name": "Python 3"
    },
    "language_info": {
      "name": "python"
    }
  },
  "cells": [
    {
      "cell_type": "markdown",
      "metadata": {
        "id": "view-in-github",
        "colab_type": "text"
      },
      "source": [
        "<a href=\"https://colab.research.google.com/github/AsairiNava/Codewars-solutions/blob/main/8_kyu_Reversed_Words.ipynb\" target=\"_parent\"><img src=\"https://colab.research.google.com/assets/colab-badge.svg\" alt=\"Open In Colab\"/></a>"
      ]
    },
    {
      "cell_type": "markdown",
      "metadata": {
        "id": "qU_QjglMmVyF"
      },
      "source": [
        "Complete the solution so that it reverses all of the words within the string passed in.\n",
        "\n",
        "Example:\n",
        "\n",
        "\"The greatest victory is that which requires no battle\" --> \"battle no requires which that is victory greatest The\""
      ]
    },
    {
      "cell_type": "code",
      "metadata": {
        "id": "OI-Ejki9mLdq"
      },
      "source": [
        "def reverse_words(s):\n",
        "    reverse_words = []\n",
        "    for i in s.split(' '):\n",
        "        reverse_words.append(i)\n",
        "    return ' '.join(reversed(reverse_words))"
      ],
      "execution_count": null,
      "outputs": []
    }
  ]
}