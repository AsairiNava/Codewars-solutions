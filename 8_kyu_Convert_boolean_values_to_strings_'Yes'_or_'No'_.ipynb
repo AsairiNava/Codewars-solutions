{
  "nbformat": 4,
  "nbformat_minor": 0,
  "metadata": {
    "colab": {
      "name": "8 kyu Convert boolean values to strings 'Yes' or 'No'..ipynb",
      "provenance": [],
      "authorship_tag": "ABX9TyM1wnroSomRteBJF8aSEXzL",
      "include_colab_link": true
    },
    "kernelspec": {
      "name": "python3",
      "display_name": "Python 3"
    },
    "language_info": {
      "name": "python"
    }
  },
  "cells": [
    {
      "cell_type": "markdown",
      "metadata": {
        "id": "view-in-github",
        "colab_type": "text"
      },
      "source": [
        "<a href=\"https://colab.research.google.com/github/AsairiNava/Codewars-solutions/blob/main/8_kyu_Convert_boolean_values_to_strings_'Yes'_or_'No'_.ipynb\" target=\"_parent\"><img src=\"https://colab.research.google.com/assets/colab-badge.svg\" alt=\"Open In Colab\"/></a>"
      ]
    },
    {
      "cell_type": "markdown",
      "metadata": {
        "id": "fkcwCz0m0Il5"
      },
      "source": [
        "Complete the method that takes a boolean value and return a \"Yes\" string for true, or a \"No\" string for false."
      ]
    },
    {
      "cell_type": "code",
      "metadata": {
        "id": "nuToJfE0z_Aj"
      },
      "source": [
        "def bool_to_word(boolean):\n",
        "    # TODO\n",
        "    if boolean == True:\n",
        "        return str('Yes')\n",
        "    else:\n",
        "        return str('No')"
      ],
      "execution_count": null,
      "outputs": []
    }
  ]
}