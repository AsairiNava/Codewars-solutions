{
  "nbformat": 4,
  "nbformat_minor": 0,
  "metadata": {
    "colab": {
      "name": "8 kyu What's the real floor?.ipynb",
      "provenance": [],
      "authorship_tag": "ABX9TyPbBQuQ8iEqax8AfTzTMJkh",
      "include_colab_link": true
    },
    "kernelspec": {
      "name": "python3",
      "display_name": "Python 3"
    },
    "language_info": {
      "name": "python"
    }
  },
  "cells": [
    {
      "cell_type": "markdown",
      "metadata": {
        "id": "view-in-github",
        "colab_type": "text"
      },
      "source": [
        "<a href=\"https://colab.research.google.com/github/AsairiNava/Codewars-solutions/blob/main/8_kyu_What's_the_real_floor%3F.ipynb\" target=\"_parent\"><img src=\"https://colab.research.google.com/assets/colab-badge.svg\" alt=\"Open In Colab\"/></a>"
      ]
    },
    {
      "cell_type": "markdown",
      "metadata": {
        "id": "NkC5iXVwnLCY"
      },
      "source": [
        "8 kyu What's the real floor?"
      ]
    },
    {
      "cell_type": "code",
      "metadata": {
        "id": "KIeKcDqDnSmq"
      },
      "source": [
        "def get_real_floor(n):\n",
        "    # code here\n",
        "    e = []\n",
        "    if n >= 13:\n",
        "        e = n-2\n",
        "    elif n == 0:\n",
        "        e = (0)\n",
        "    elif n > 0 and n < 13:\n",
        "        e = n - 1\n",
        "    return e"
      ],
      "execution_count": null,
      "outputs": []
    }
  ]
}