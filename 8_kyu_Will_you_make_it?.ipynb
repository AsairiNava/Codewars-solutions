{
  "nbformat": 4,
  "nbformat_minor": 0,
  "metadata": {
    "colab": {
      "name": "8 kyu Will you make it?.ipynb",
      "provenance": [],
      "authorship_tag": "ABX9TyO9pqQSYWHY5oPMRvmIcwF1",
      "include_colab_link": true
    },
    "kernelspec": {
      "name": "python3",
      "display_name": "Python 3"
    },
    "language_info": {
      "name": "python"
    }
  },
  "cells": [
    {
      "cell_type": "markdown",
      "metadata": {
        "id": "view-in-github",
        "colab_type": "text"
      },
      "source": [
        "<a href=\"https://colab.research.google.com/github/AsairiNava/Codewars-solutions/blob/main/8_kyu_Will_you_make_it%3F.ipynb\" target=\"_parent\"><img src=\"https://colab.research.google.com/assets/colab-badge.svg\" alt=\"Open In Colab\"/></a>"
      ]
    },
    {
      "cell_type": "markdown",
      "metadata": {
        "id": "EOz0QUuCrkfd"
      },
      "source": [
        "Will you make it?\n",
        "You were camping with your friends far away from home, but when it's time to go back, you realize that your fuel is running out and the nearest pump is 50 miles away! You know that on average, your car runs on about 25 miles per gallon. There are 2 gallons left. Considering these factors, write a function that tells you if it is possible to get to the pump or not. Function should return true (1 in Prolog) if it is possible and false (0 in Prolog) if not. The input values are always positive."
      ]
    },
    {
      "cell_type": "code",
      "metadata": {
        "id": "M-ZNy58ardHV"
      },
      "source": [
        "def zero_fuel(distance_to_pump, mpg, fuel_left):\n",
        "    #Happy Coding! ;)\n",
        "    return mpg * fuel_left >= distance_to_pump"
      ],
      "execution_count": null,
      "outputs": []
    }
  ]
}