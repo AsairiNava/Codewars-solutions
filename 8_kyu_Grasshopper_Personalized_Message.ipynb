{
  "nbformat": 4,
  "nbformat_minor": 0,
  "metadata": {
    "colab": {
      "name": "8 kyu Grasshopper - Personalized Message.ipynb",
      "provenance": [],
      "authorship_tag": "ABX9TyPrKPya8NMBzuFhYUt7td2K",
      "include_colab_link": true
    },
    "kernelspec": {
      "name": "python3",
      "display_name": "Python 3"
    },
    "language_info": {
      "name": "python"
    }
  },
  "cells": [
    {
      "cell_type": "markdown",
      "metadata": {
        "id": "view-in-github",
        "colab_type": "text"
      },
      "source": [
        "<a href=\"https://colab.research.google.com/github/AsairiNava/Codewars-solutions/blob/main/8_kyu_Grasshopper_Personalized_Message.ipynb\" target=\"_parent\"><img src=\"https://colab.research.google.com/assets/colab-badge.svg\" alt=\"Open In Colab\"/></a>"
      ]
    },
    {
      "cell_type": "markdown",
      "metadata": {
        "id": "pToxkjxuk08t"
      },
      "source": [
        "Create a function that gives a personalized greeting. This function takes two parameters: name and owner.\n",
        "\n",
        "Use conditionals to return the proper message:\n",
        "\n",
        "case\treturn\n",
        "name equals owner\t'Hello boss'\n",
        "otherwise\t'Hello guest'"
      ]
    },
    {
      "cell_type": "code",
      "metadata": {
        "id": "oUUnwjyCkxSf"
      },
      "source": [
        "def greet(name, owner):\n",
        "    if (name == owner):\n",
        "        return 'Hello boss'\n",
        "    else:\n",
        "        return 'Hello guest'"
      ],
      "execution_count": null,
      "outputs": []
    }
  ]
}