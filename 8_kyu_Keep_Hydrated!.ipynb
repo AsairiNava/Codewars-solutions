{
  "nbformat": 4,
  "nbformat_minor": 0,
  "metadata": {
    "colab": {
      "name": "8 kyu Keep Hydrated!.ipynb",
      "provenance": [],
      "authorship_tag": "ABX9TyPCV0Y+7GJwnPFJ72PNQadT",
      "include_colab_link": true
    },
    "kernelspec": {
      "name": "python3",
      "display_name": "Python 3"
    },
    "language_info": {
      "name": "python"
    }
  },
  "cells": [
    {
      "cell_type": "markdown",
      "metadata": {
        "id": "view-in-github",
        "colab_type": "text"
      },
      "source": [
        "<a href=\"https://colab.research.google.com/github/AsairiNava/Codewars-solutions/blob/main/8_kyu_Keep_Hydrated!.ipynb\" target=\"_parent\"><img src=\"https://colab.research.google.com/assets/colab-badge.svg\" alt=\"Open In Colab\"/></a>"
      ]
    },
    {
      "cell_type": "markdown",
      "metadata": {
        "id": "x8EMHFQhrhdj"
      },
      "source": [
        "Nathan loves cycling.\n",
        "\n",
        "Because Nathan knows it is important to stay hydrated, he drinks 0.5 litres of water per hour of cycling.\n",
        "\n",
        "You get given the time in hours and you need to return the number of litres Nathan will drink, rounded to the smallest value.\n",
        "\n",
        "For example:\n",
        "\n",
        "time = 3 ----> litres = 1\n",
        "\n",
        "time = 6.7---> litres = 3\n",
        "\n",
        "time = 11.8--> litres = 5"
      ]
    },
    {
      "cell_type": "code",
      "metadata": {
        "id": "80B--7n9rbbx"
      },
      "source": [
        "import math\n",
        "\n",
        "def litres(time):\n",
        "    return math.floor(time * 0.5)"
      ],
      "execution_count": null,
      "outputs": []
    }
  ]
}