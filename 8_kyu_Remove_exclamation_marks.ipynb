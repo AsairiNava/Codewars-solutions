{
  "nbformat": 4,
  "nbformat_minor": 0,
  "metadata": {
    "colab": {
      "name": "8 kyu Remove exclamation marks.ipynb",
      "provenance": [],
      "authorship_tag": "ABX9TyNqXCZq6Fip7ldMz1nYZjdR",
      "include_colab_link": true
    },
    "kernelspec": {
      "name": "python3",
      "display_name": "Python 3"
    },
    "language_info": {
      "name": "python"
    }
  },
  "cells": [
    {
      "cell_type": "markdown",
      "metadata": {
        "id": "view-in-github",
        "colab_type": "text"
      },
      "source": [
        "<a href=\"https://colab.research.google.com/github/AsairiNava/Codewars-solutions/blob/main/8_kyu_Remove_exclamation_marks.ipynb\" target=\"_parent\"><img src=\"https://colab.research.google.com/assets/colab-badge.svg\" alt=\"Open In Colab\"/></a>"
      ]
    },
    {
      "cell_type": "markdown",
      "metadata": {
        "id": "hYWXRl0OdVF3"
      },
      "source": [
        "Write function RemoveExclamationMarks which removes all exclamation marks from a given string."
      ]
    },
    {
      "cell_type": "code",
      "metadata": {
        "id": "OEc2GH07dN1y"
      },
      "source": [
        "import re\n",
        "\n",
        "def remove_exclamation_marks(s):\n",
        "    #your code here\n",
        "    s = re.sub('[.!]', '', s)\n",
        "    return s"
      ],
      "execution_count": null,
      "outputs": []
    }
  ]
}