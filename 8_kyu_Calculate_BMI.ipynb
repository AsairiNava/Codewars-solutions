{
  "nbformat": 4,
  "nbformat_minor": 0,
  "metadata": {
    "colab": {
      "name": "8 kyu Calculate BMI.ipynb",
      "provenance": [],
      "authorship_tag": "ABX9TyObrmpstO53eznpBQG2kKfa",
      "include_colab_link": true
    },
    "kernelspec": {
      "name": "python3",
      "display_name": "Python 3"
    },
    "language_info": {
      "name": "python"
    }
  },
  "cells": [
    {
      "cell_type": "markdown",
      "metadata": {
        "id": "view-in-github",
        "colab_type": "text"
      },
      "source": [
        "<a href=\"https://colab.research.google.com/github/AsairiNava/Codewars-solutions/blob/main/8_kyu_Calculate_BMI.ipynb\" target=\"_parent\"><img src=\"https://colab.research.google.com/assets/colab-badge.svg\" alt=\"Open In Colab\"/></a>"
      ]
    },
    {
      "cell_type": "markdown",
      "metadata": {
        "id": "IITP0n6zQn1S"
      },
      "source": [
        "Write function bmi that calculates body mass index (bmi = weight / height2).\n",
        "\n",
        "if bmi <= 18.5 return \"Underweight\"\n",
        "\n",
        "if bmi <= 25.0 return \"Normal\"\n",
        "\n",
        "if bmi <= 30.0 return \"Overweight\"\n",
        "\n",
        "if bmi > 30 return \"Obese\""
      ]
    },
    {
      "cell_type": "code",
      "metadata": {
        "id": "bVDA4A3qQkqr"
      },
      "source": [
        "def bmi(weight, height):\n",
        "    #your code here\n",
        "    bmi = weight / height**2\n",
        "    if bmi <= 18.5:\n",
        "        return 'Underweight'\n",
        "    if bmi <= 25.0:\n",
        "        return \"Normal\"\n",
        "    if bmi <= 30.0:\n",
        "        return \"Overweight\"\n",
        "    if bmi > 30:\n",
        "        return \"Obese\""
      ],
      "execution_count": null,
      "outputs": []
    }
  ]
}