{
  "nbformat": 4,
  "nbformat_minor": 0,
  "metadata": {
    "colab": {
      "name": "8 kyu Twice as old.ipynb",
      "provenance": [],
      "authorship_tag": "ABX9TyP8GzTYp5pDn/I4hw8fCa/O",
      "include_colab_link": true
    },
    "kernelspec": {
      "name": "python3",
      "display_name": "Python 3"
    },
    "language_info": {
      "name": "python"
    }
  },
  "cells": [
    {
      "cell_type": "markdown",
      "metadata": {
        "id": "view-in-github",
        "colab_type": "text"
      },
      "source": [
        "<a href=\"https://colab.research.google.com/github/AsairiNava/Codewars-solutions/blob/main/8_kyu_Twice_as_old.ipynb\" target=\"_parent\"><img src=\"https://colab.research.google.com/assets/colab-badge.svg\" alt=\"Open In Colab\"/></a>"
      ]
    },
    {
      "cell_type": "markdown",
      "metadata": {
        "id": "qE20b88-wj1X"
      },
      "source": [
        "Your function takes two arguments:\n",
        "\n",
        "current father's age (years)\n",
        "current age of his son (years)\n",
        "Сalculate how many years ago the father was twice as old as his son (or in how many years he will be twice as old)."
      ]
    },
    {
      "cell_type": "code",
      "metadata": {
        "id": "KbtGe9u_wfFx"
      },
      "source": [
        "def twice_as_old(dad_years_old, son_years_old):\n",
        "    return abs(dad_years_old - (son_years_old*2))"
      ],
      "execution_count": null,
      "outputs": []
    }
  ]
}