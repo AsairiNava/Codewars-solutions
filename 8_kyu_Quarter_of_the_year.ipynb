{
  "nbformat": 4,
  "nbformat_minor": 0,
  "metadata": {
    "colab": {
      "name": "8 kyu Quarter of the year.ipynb",
      "provenance": [],
      "authorship_tag": "ABX9TyNVpAI1tZadxHwflF9avOkn",
      "include_colab_link": true
    },
    "kernelspec": {
      "name": "python3",
      "display_name": "Python 3"
    },
    "language_info": {
      "name": "python"
    }
  },
  "cells": [
    {
      "cell_type": "markdown",
      "metadata": {
        "id": "view-in-github",
        "colab_type": "text"
      },
      "source": [
        "<a href=\"https://colab.research.google.com/github/AsairiNava/Codewars-solutions/blob/main/8_kyu_Quarter_of_the_year.ipynb\" target=\"_parent\"><img src=\"https://colab.research.google.com/assets/colab-badge.svg\" alt=\"Open In Colab\"/></a>"
      ]
    },
    {
      "cell_type": "markdown",
      "metadata": {
        "id": "B4ebZu0QvXqn"
      },
      "source": [
        "Given a month as an integer from 1 to 12, return to which quarter of the year it belongs as an integer number.\n",
        "\n",
        "For example: month 2 (February), is part of the first quarter; month 6 (June), is part of the second quarter; and month 11 (November), is part of the fourth quarter."
      ]
    },
    {
      "cell_type": "code",
      "metadata": {
        "id": "N5JhUw7kvM1X"
      },
      "source": [
        "def quarter_of(month):\n",
        "    # your code here\n",
        "    if month >= 1 and month <= 3:\n",
        "        return 1\n",
        "    elif month >= 4 and month <= 6:\n",
        "        return 2\n",
        "    elif month >= 7 and month <= 9:\n",
        "        return 3\n",
        "    elif month >= 10 and month <= 12:\n",
        "        return 4"
      ],
      "execution_count": null,
      "outputs": []
    }
  ]
}