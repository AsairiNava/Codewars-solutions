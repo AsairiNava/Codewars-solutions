{
  "nbformat": 4,
  "nbformat_minor": 0,
  "metadata": {
    "colab": {
      "name": "8 kyu Enumerable Magic #25 - Take the First N Elements.ipynb",
      "provenance": [],
      "authorship_tag": "ABX9TyMd3LVvEIzZ9i/kpWuKsr/e",
      "include_colab_link": true
    },
    "kernelspec": {
      "name": "python3",
      "display_name": "Python 3"
    },
    "language_info": {
      "name": "python"
    }
  },
  "cells": [
    {
      "cell_type": "markdown",
      "metadata": {
        "id": "view-in-github",
        "colab_type": "text"
      },
      "source": [
        "<a href=\"https://colab.research.google.com/github/AsairiNava/Codewars-solutions/blob/main/8_kyu_Enumerable_Magic_25_Take_the_First_N_Elements.ipynb\" target=\"_parent\"><img src=\"https://colab.research.google.com/assets/colab-badge.svg\" alt=\"Open In Colab\"/></a>"
      ]
    },
    {
      "cell_type": "markdown",
      "metadata": {
        "id": "Dq_kcHg_sgkh"
      },
      "source": [
        "Create a method take that accepts a list/array and a number n, and returns a list/array array of the first n elements from the list/array."
      ]
    },
    {
      "cell_type": "code",
      "metadata": {
        "id": "W8LpNeg9sSjs"
      },
      "source": [
        "def take(arr,n):\n",
        "    return arr[:n]"
      ],
      "execution_count": null,
      "outputs": []
    }
  ]
}