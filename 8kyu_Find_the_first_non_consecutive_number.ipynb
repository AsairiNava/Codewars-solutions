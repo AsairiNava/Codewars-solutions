{
  "nbformat": 4,
  "nbformat_minor": 0,
  "metadata": {
    "colab": {
      "name": "8kyu Find the first non-consecutive number.ipynb",
      "provenance": [],
      "authorship_tag": "ABX9TyPdTiaTysw20dFgLKrSlsI6",
      "include_colab_link": true
    },
    "kernelspec": {
      "name": "python3",
      "display_name": "Python 3"
    },
    "language_info": {
      "name": "python"
    }
  },
  "cells": [
    {
      "cell_type": "markdown",
      "metadata": {
        "id": "view-in-github",
        "colab_type": "text"
      },
      "source": [
        "<a href=\"https://colab.research.google.com/github/AsairiNava/Codewars-solutions/blob/main/8kyu_Find_the_first_non_consecutive_number.ipynb\" target=\"_parent\"><img src=\"https://colab.research.google.com/assets/colab-badge.svg\" alt=\"Open In Colab\"/></a>"
      ]
    },
    {
      "cell_type": "markdown",
      "metadata": {
        "id": "Ai28RuzbeOt8"
      },
      "source": [
        "Your task is to find the first element of an array that is not consecutive.\n",
        "\n",
        "By not consecutive we mean not exactly 1 larger than the previous element of the array.\n",
        "\n",
        "E.g. If we have an array [1,2,3,4,6,7,8] then 1 then 2 then 3 then 4 are all consecutive but 6 is not, so that's the first non-consecutive number.\n",
        "\n",
        "If the whole array is consecutive then return null2.\n",
        "\n",
        "The array will always have at least 2 elements1 and all elements will be numbers. The numbers will also all be unique and in ascending order. The numbers could be positive or negative and the first non-consecutive could be either too!\n",
        "\n",
        "If you like this Kata, maybe try this one next: https://www.codewars.com/kata/represent-array-of-numbers-as-ranges\n",
        "\n",
        "1 Can you write a solution that will return null2 for both [] and [ x ] though? (This is an empty array and one with a single number and is not tested for, but you can write your own example test. )\n",
        "\n",
        "2\n",
        "Swift, Ruby and Crystal: nil\n",
        "Haskell: Nothing\n",
        "Python, Rust, Scala: None\n",
        "Julia: nothing\n",
        "Nim: none(int) (See options)"
      ]
    },
    {
      "cell_type": "code",
      "metadata": {
        "id": "E_a_JLZcdnXY"
      },
      "source": [
        "def first_non_consecutive(arr):\n",
        "    #your code here\n",
        "    number = arr.pop(0)\n",
        "    for i in arr:\n",
        "        number += 1\n",
        "        if i != number:\n",
        "            return i\n",
        "    return None"
      ],
      "execution_count": null,
      "outputs": []
    }
  ]
}