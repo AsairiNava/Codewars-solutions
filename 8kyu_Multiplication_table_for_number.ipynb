{
  "nbformat": 4,
  "nbformat_minor": 0,
  "metadata": {
    "colab": {
      "name": "8kyu Multiplication table for number.ipynb",
      "provenance": [],
      "authorship_tag": "ABX9TyOjn9Fr0Qz6SPA6zi9Tg1ky",
      "include_colab_link": true
    },
    "kernelspec": {
      "name": "python3",
      "display_name": "Python 3"
    },
    "language_info": {
      "name": "python"
    }
  },
  "cells": [
    {
      "cell_type": "markdown",
      "metadata": {
        "id": "view-in-github",
        "colab_type": "text"
      },
      "source": [
        "<a href=\"https://colab.research.google.com/github/AsairiNava/Codewars-solutions/blob/main/8kyu_Multiplication_table_for_number.ipynb\" target=\"_parent\"><img src=\"https://colab.research.google.com/assets/colab-badge.svg\" alt=\"Open In Colab\"/></a>"
      ]
    },
    {
      "cell_type": "markdown",
      "metadata": {
        "id": "WIzp8Hz0e4Jn"
      },
      "source": [
        "Your goal is to return multiplication table for number that is always an integer from 1 to 10.\n",
        "\n",
        "For example, a multiplication table (string) for number == 5 looks like below:\n",
        "\n",
        "1 * 5 = 5\n",
        "2 * 5 = 10\n",
        "3 * 5 = 15\n",
        "4 * 5 = 20\n",
        "5 * 5 = 25\n",
        "6 * 5 = 30\n",
        "7 * 5 = 35\n",
        "8 * 5 = 40\n",
        "9 * 5 = 45\n",
        "10 * 5 = 50\n",
        "P. S. You can use \\n in string to jump to the next line.\n",
        "\n",
        "Note: newlines should be added between rows, but there should be no trailing newline at the end."
      ]
    },
    {
      "cell_type": "code",
      "metadata": {
        "id": "vDSiOGnle2dS"
      },
      "source": [
        "def multi_table(number):\n",
        "    separador = '\\n'\n",
        "    return separador.join(f'{i} * {number} = {i * number}' for i in range(1, 11))"
      ],
      "execution_count": null,
      "outputs": []
    }
  ]
}